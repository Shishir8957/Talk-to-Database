{
 "cells": [
  {
   "cell_type": "code",
   "execution_count": 172,
   "id": "32b4738d",
   "metadata": {},
   "outputs": [
    {
     "name": "stdout",
     "output_type": "stream",
     "text": [
      "Requirement already satisfied: psycopg2 in c:\\users\\royel\\anaconda3\\lib\\site-packages (2.9.9)\n"
     ]
    }
   ],
   "source": [
    "!pip install psycopg2"
   ]
  },
  {
   "cell_type": "code",
   "execution_count": 173,
   "id": "9cf6c821",
   "metadata": {},
   "outputs": [],
   "source": [
    "import psycopg2\n",
    "from sqlalchemy import create_engine"
   ]
  },
  {
   "cell_type": "code",
   "execution_count": 174,
   "id": "893a1bd3",
   "metadata": {},
   "outputs": [],
   "source": [
    "db_params =  {\n",
    "        'dbname' : 'vadagadi',\n",
    "        'user' : 'postgres',\n",
    "        'password' : '1532',\n",
    "        'host' : 'localhost',\n",
    "        'port' :5432\n",
    "}"
   ]
  },
  {
   "cell_type": "code",
   "execution_count": 175,
   "id": "d972d1f4",
   "metadata": {},
   "outputs": [],
   "source": [
    "conn = psycopg2.connect(**db_params)"
   ]
  },
  {
   "cell_type": "code",
   "execution_count": 176,
   "id": "dfea9709",
   "metadata": {
    "scrolled": true
   },
   "outputs": [
    {
     "name": "stdout",
     "output_type": "stream",
     "text": [
      "(1, 'pbkdf2_sha256$260000$y1MYYt3GXHIBR7tje1y9g6$yz5MYYXr5gJZne9WgYMndY0X9oswcmsnmLxuqtCoBLo=', datetime.datetime(2023, 7, 1, 13, 37, 41, 526567, tzinfo=datetime.timezone(datetime.timedelta(seconds=20700))), True, 'shishir1415', 'kbro', '1415', 'kbro1415@gmail.com', True, True, datetime.datetime(2023, 3, 14, 17, 16, 41, tzinfo=datetime.timezone(datetime.timedelta(seconds=20700))))\n"
     ]
    }
   ],
   "source": [
    "cur.execute(\"\"\"SELECT * FROM auth_user WHERE id=1\"\"\")\n",
    "print(cur.fetchone())"
   ]
  },
  {
   "cell_type": "code",
   "execution_count": 177,
   "id": "37529493",
   "metadata": {
    "scrolled": true
   },
   "outputs": [
    {
     "name": "stdout",
     "output_type": "stream",
     "text": [
      "[('auth_group',), ('auth_group_permissions',), ('auth_permission',), ('auth_user',), ('auth_user_groups',), ('auth_user_user_permissions',), ('contactus_contact',), ('django_admin_log',), ('django_content_type',), ('django_migrations',), ('django_session',), ('privacy_policy_privacypolicy',), ('products_booking',), ('products_comment',), ('products_fuletype',), ('products_paymentcomplete',), ('products_product',), ('products_ratings',), ('products_transmission',), ('products_vehicletype',), ('register_account',), ('register_randomstring',), ('register_verifyuser',)]\n"
     ]
    }
   ],
   "source": [
    "cur.execute(\"\"\"SELECT table_name\n",
    "FROM information_schema.tables\n",
    "WHERE table_type = 'BASE TABLE'\n",
    "      AND table_schema = 'public'\n",
    "ORDER BY table_name;\n",
    "\"\"\")\n",
    "print(cur.fetchall())"
   ]
  },
  {
   "cell_type": "code",
   "execution_count": 178,
   "id": "7aaa475a",
   "metadata": {},
   "outputs": [
    {
     "name": "stdout",
     "output_type": "stream",
     "text": [
      "auth_group\n"
     ]
    }
   ],
   "source": [
    "for table in table_name:\n",
    "    print(table)"
   ]
  },
  {
   "cell_type": "code",
   "execution_count": 179,
   "id": "c19124bb",
   "metadata": {},
   "outputs": [
    {
     "name": "stdout",
     "output_type": "stream",
     "text": [
      "(1, datetime.datetime(2023, 3, 14, 21, 21, 24, 557742, tzinfo=datetime.timezone(datetime.timedelta(seconds=20700))), '3', 'Ratings object (3)', 3, '', 12, 1)\n"
     ]
    }
   ],
   "source": [
    "cur.execute(\"\"\"SELECT * FROM django_admin_log\"\"\")\n",
    "print(cur.fetchone())"
   ]
  },
  {
   "cell_type": "code",
   "execution_count": 56,
   "id": "6b4e7728",
   "metadata": {},
   "outputs": [],
   "source": [
    "conn.commit()"
   ]
  },
  {
   "cell_type": "code",
   "execution_count": 23,
   "id": "c58f75d2",
   "metadata": {},
   "outputs": [],
   "source": [
    "cur.close()\n",
    "conn.close()"
   ]
  },
  {
   "cell_type": "code",
   "execution_count": 180,
   "id": "aee1ccd3",
   "metadata": {},
   "outputs": [],
   "source": [
    "# Create a SQLAlchemy engine\n",
    "engine = create_engine(f'postgresql://{db_params[\"user\"]}:{db_params[\"password\"]}@{db_params[\"host\"]}:{db_params[\"port\"]}/{db_params[\"dbname\"]}')"
   ]
  },
  {
   "cell_type": "code",
   "execution_count": 181,
   "id": "c1a3c83a",
   "metadata": {},
   "outputs": [],
   "source": [
    "import pandas as pd\n",
    "\n",
    "df = pd.read_sql(\"SELECT * FROM django_admin_log\",engine)"
   ]
  },
  {
   "cell_type": "code",
   "execution_count": 182,
   "id": "2b6dcb65",
   "metadata": {},
   "outputs": [
    {
     "data": {
      "text/html": [
       "<div>\n",
       "<style scoped>\n",
       "    .dataframe tbody tr th:only-of-type {\n",
       "        vertical-align: middle;\n",
       "    }\n",
       "\n",
       "    .dataframe tbody tr th {\n",
       "        vertical-align: top;\n",
       "    }\n",
       "\n",
       "    .dataframe thead th {\n",
       "        text-align: right;\n",
       "    }\n",
       "</style>\n",
       "<table border=\"1\" class=\"dataframe\">\n",
       "  <thead>\n",
       "    <tr style=\"text-align: right;\">\n",
       "      <th></th>\n",
       "      <th>id</th>\n",
       "      <th>action_time</th>\n",
       "      <th>object_id</th>\n",
       "      <th>object_repr</th>\n",
       "      <th>action_flag</th>\n",
       "      <th>change_message</th>\n",
       "      <th>content_type_id</th>\n",
       "      <th>user_id</th>\n",
       "    </tr>\n",
       "  </thead>\n",
       "  <tbody>\n",
       "    <tr>\n",
       "      <th>0</th>\n",
       "      <td>1</td>\n",
       "      <td>2023-03-14 15:36:24.557742+00:00</td>\n",
       "      <td>3</td>\n",
       "      <td>Ratings object (3)</td>\n",
       "      <td>3</td>\n",
       "      <td></td>\n",
       "      <td>12</td>\n",
       "      <td>1</td>\n",
       "    </tr>\n",
       "    <tr>\n",
       "      <th>1</th>\n",
       "      <td>2</td>\n",
       "      <td>2023-03-14 15:36:24.573988+00:00</td>\n",
       "      <td>2</td>\n",
       "      <td>Ratings object (2)</td>\n",
       "      <td>3</td>\n",
       "      <td></td>\n",
       "      <td>12</td>\n",
       "      <td>1</td>\n",
       "    </tr>\n",
       "    <tr>\n",
       "      <th>2</th>\n",
       "      <td>3</td>\n",
       "      <td>2023-03-14 16:03:00.702358+00:00</td>\n",
       "      <td>2</td>\n",
       "      <td>PaymentComplete object (2)</td>\n",
       "      <td>2</td>\n",
       "      <td>[{\"changed\": {\"fields\": [\"Rating\"]}}]</td>\n",
       "      <td>13</td>\n",
       "      <td>1</td>\n",
       "    </tr>\n",
       "    <tr>\n",
       "      <th>3</th>\n",
       "      <td>4</td>\n",
       "      <td>2023-03-14 16:21:55.858915+00:00</td>\n",
       "      <td>2</td>\n",
       "      <td>shishir51</td>\n",
       "      <td>2</td>\n",
       "      <td>[{\"changed\": {\"fields\": [\"Staff status\", \"Supe...</td>\n",
       "      <td>4</td>\n",
       "      <td>1</td>\n",
       "    </tr>\n",
       "    <tr>\n",
       "      <th>4</th>\n",
       "      <td>5</td>\n",
       "      <td>2023-03-15 00:48:21.491993+00:00</td>\n",
       "      <td>6</td>\n",
       "      <td>PaymentComplete object (6)</td>\n",
       "      <td>3</td>\n",
       "      <td></td>\n",
       "      <td>13</td>\n",
       "      <td>1</td>\n",
       "    </tr>\n",
       "  </tbody>\n",
       "</table>\n",
       "</div>"
      ],
      "text/plain": [
       "   id                      action_time object_id                 object_repr  \\\n",
       "0   1 2023-03-14 15:36:24.557742+00:00         3          Ratings object (3)   \n",
       "1   2 2023-03-14 15:36:24.573988+00:00         2          Ratings object (2)   \n",
       "2   3 2023-03-14 16:03:00.702358+00:00         2  PaymentComplete object (2)   \n",
       "3   4 2023-03-14 16:21:55.858915+00:00         2                   shishir51   \n",
       "4   5 2023-03-15 00:48:21.491993+00:00         6  PaymentComplete object (6)   \n",
       "\n",
       "   action_flag                                     change_message  \\\n",
       "0            3                                                      \n",
       "1            3                                                      \n",
       "2            2              [{\"changed\": {\"fields\": [\"Rating\"]}}]   \n",
       "3            2  [{\"changed\": {\"fields\": [\"Staff status\", \"Supe...   \n",
       "4            3                                                      \n",
       "\n",
       "   content_type_id  user_id  \n",
       "0               12        1  \n",
       "1               12        1  \n",
       "2               13        1  \n",
       "3                4        1  \n",
       "4               13        1  "
      ]
     },
     "execution_count": 182,
     "metadata": {},
     "output_type": "execute_result"
    }
   ],
   "source": [
    "df.head()"
   ]
  }
 ],
 "metadata": {
  "kernelspec": {
   "display_name": "Python 3 (ipykernel)",
   "language": "python",
   "name": "python3"
  },
  "language_info": {
   "codemirror_mode": {
    "name": "ipython",
    "version": 3
   },
   "file_extension": ".py",
   "mimetype": "text/x-python",
   "name": "python",
   "nbconvert_exporter": "python",
   "pygments_lexer": "ipython3",
   "version": "3.11.5"
  }
 },
 "nbformat": 4,
 "nbformat_minor": 5
}
